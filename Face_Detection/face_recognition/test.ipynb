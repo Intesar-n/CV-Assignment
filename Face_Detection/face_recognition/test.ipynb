{
 "cells": [
  {
   "cell_type": "code",
   "execution_count": 5,
   "metadata": {},
   "outputs": [],
   "source": [
    "import face_recognition\n",
    "image = face_recognition.load_image_file(\"/Users/majed-abdulkareem/Desktop/wakeb/Wakeb Assignment/images/mask15.png\")\n",
    "face_locations = face_recognition.face_locations(image)"
   ]
  },
  {
   "cell_type": "code",
   "execution_count": 7,
   "metadata": {},
   "outputs": [],
   "source": [
    "from PIL import Image, ImageDraw\n",
    "import face_recognition\n",
    "\n",
    "# Load your image\n",
    "image = face_recognition.load_image_file(\"/Users/majed-abdulkareem/Desktop/wakeb/Wakeb Assignment/images/mask328.png\")\n",
    "\n",
    "# Find all face locations in the image\n",
    "face_locations = face_recognition.face_locations(image)\n",
    "\n",
    "# Convert the numpy array image into a PIL Image\n",
    "pil_image = Image.fromarray(image)\n",
    "\n",
    "# Create a PIL drawing object\n",
    "draw = ImageDraw.Draw(pil_image)\n",
    "\n",
    "# Loop through each face location\n",
    "for (top, right, bottom, left) in face_locations:\n",
    "    # Draw a box around the face\n",
    "    draw.rectangle(((left, top), (right, bottom)), outline=(255, 0, 0))\n",
    "\n",
    "# Remove the drawing library from memory as per the Pillow docs\n",
    "del draw\n",
    "\n",
    "# Save the image\n",
    "pil_image.save(\"identified_faces.png\")\n"
   ]
  },
  {
   "cell_type": "code",
   "execution_count": 6,
   "metadata": {},
   "outputs": [
    {
     "data": {
      "text/plain": [
       "<module 'face_recognition' from '/Users/majed-abdulkareem/Desktop/wakeb/face_recognition/face_recognition/__init__.py'>"
      ]
     },
     "execution_count": 6,
     "metadata": {},
     "output_type": "execute_result"
    }
   ],
   "source": [
    "face_recognition"
   ]
  },
  {
   "cell_type": "code",
   "execution_count": 13,
   "metadata": {},
   "outputs": [
    {
     "data": {
      "text/plain": [
       "{'mask60.png': 0}"
      ]
     },
     "execution_count": 13,
     "metadata": {},
     "output_type": "execute_result"
    }
   ],
   "source": [
    "import face_recognition\n",
    "from PIL import Image\n",
    "import os\n",
    "\n",
    "# Define the function to load an image, detect faces, and crop the faces\n",
    "def crop_faces_from_image(image_path):\n",
    "    # Load the image file\n",
    "    image = face_recognition.load_image_file(image_path)\n",
    "    \n",
    "    # Find all face locations in the image\n",
    "    face_locations = face_recognition.face_locations(image)\n",
    "    \n",
    "    # List to hold the face images\n",
    "    cropped_faces = []\n",
    "    \n",
    "    # Loop through each face location\n",
    "    for face_location in face_locations:\n",
    "        # Print the location of each face in this image\n",
    "        top, right, bottom, left = face_location\n",
    "        \n",
    "        # You can access the actual face itself like this:\n",
    "        face_image = image[top:bottom, left:right]\n",
    "        pil_image = Image.fromarray(face_image)\n",
    "        cropped_faces.append(pil_image)\n",
    "        \n",
    "    # Return the list of cropped face images\n",
    "    return cropped_faces\n",
    "\n",
    "# Paths to the uploaded images\n",
    "image_paths = [\n",
    "    '/Users/majed-abdulkareem/Desktop/wakeb/Wakeb Assignment/images/mask60.png'\n",
    "]\n",
    "\n",
    "# Process each image and store the results\n",
    "all_cropped_faces = {}\n",
    "for image_path in image_paths:\n",
    "    file_name = os.path.basename(image_path)\n",
    "    all_cropped_faces[file_name] = crop_faces_from_image(image_path)\n",
    "\n",
    "# Show the number of faces detected in each image\n",
    "face_counts = {name: len(faces) for name, faces in all_cropped_faces.items()}\n",
    "face_counts\n"
   ]
  },
  {
   "cell_type": "code",
   "execution_count": 14,
   "metadata": {},
   "outputs": [],
   "source": [
    "def crop_faces_from_image(image_path, save_path):\n",
    "    # Load the image file\n",
    "    image = face_recognition.load_image_file(image_path)\n",
    "    \n",
    "    # Find all face locations in the image\n",
    "    face_locations = face_recognition.face_locations(image)\n",
    "    \n",
    "    # Loop through each face location and save the cropped image\n",
    "    for index, face_location in enumerate(face_locations):\n",
    "        top, right, bottom, left = face_location\n",
    "        face_image = image[top:bottom, left:right]\n",
    "        pil_image = Image.fromarray(face_image)\n",
    "        # Define a file name for the cropped image\n",
    "        cropped_file_name = f\"cropped_face_{index}.png\"\n",
    "        # Save the cropped image to the specified save path\n",
    "        pil_image.save(os.path.join(save_path, cropped_file_name))\n"
   ]
  },
  {
   "cell_type": "code",
   "execution_count": 15,
   "metadata": {},
   "outputs": [],
   "source": [
    "crop_faces_from_image('/Users/majed-abdulkareem/Desktop/wakeb/Wakeb Assignment/images/mask60.png','')"
   ]
  },
  {
   "cell_type": "code",
   "execution_count": 12,
   "metadata": {},
   "outputs": [],
   "source": [
    "import face_recognition\n",
    "from PIL import Image\n",
    "import os\n",
    "\n",
    "# Define the input folder where images are stored\n",
    "input_folder = '/Users/majed-abdulkareem/Desktop/wakeb/Wakeb Assignment/images'\n",
    "\n",
    "# Define the output folders for detected faces and undetected faces\n",
    "faces_detected_folder = '/Users/majed-abdulkareem/Desktop/wakeb/Wakeb Assignment/nomask'\n",
    "no_faces_detected_folder = '/Users/majed-abdulkareem/Desktop/wakeb/Wakeb Assignment/mask'\n",
    "\n",
    "# Create the output folders if they do not exist\n",
    "os.makedirs(faces_detected_folder, exist_ok=True)\n",
    "os.makedirs(no_faces_detected_folder, exist_ok=True)\n",
    "\n",
    "# Process each image in the input folder\n",
    "for image_file in os.listdir(input_folder):\n",
    "    image_path = os.path.join(input_folder, image_file)\n",
    "    \n",
    "    # Ensure the file is an image\n",
    "    if os.path.isfile(image_path) and image_file.lower().endswith(('.png', '.jpg', '.jpeg')):\n",
    "        image = face_recognition.load_image_file(image_path)\n",
    "        face_locations = face_recognition.face_locations(image)\n",
    "\n",
    "        # Check if any faces are detected\n",
    "        if face_locations:\n",
    "            # Loop through each face and crop it\n",
    "            for i, face_location in enumerate(face_locations):\n",
    "                top, right, bottom, left = face_location\n",
    "                face_image = image[top:bottom, left:right]\n",
    "                pil_image = Image.fromarray(face_image)\n",
    "                \n",
    "                # Define a file name for the cropped face\n",
    "                cropped_file_name = f\"{os.path.splitext(image_file)[0]}_face{i}.png\"\n",
    "                cropped_save_path = os.path.join(faces_detected_folder, cropped_file_name)\n",
    "                pil_image.save(cropped_save_path)\n",
    "        else:\n",
    "            # No faces detected, save the original image to the no_faces_detected folder\n",
    "            no_face_save_path = os.path.join(no_faces_detected_folder, image_file)\n",
    "            pil_image = Image.fromarray(image)\n",
    "            pil_image.save(no_face_save_path)\n"
   ]
  },
  {
   "cell_type": "code",
   "execution_count": null,
   "metadata": {},
   "outputs": [],
   "source": []
  }
 ],
 "metadata": {
  "kernelspec": {
   "display_name": "majed",
   "language": "python",
   "name": "python3"
  },
  "language_info": {
   "codemirror_mode": {
    "name": "ipython",
    "version": 3
   },
   "file_extension": ".py",
   "mimetype": "text/x-python",
   "name": "python",
   "nbconvert_exporter": "python",
   "pygments_lexer": "ipython3",
   "version": "3.9.18"
  },
  "orig_nbformat": 4,
  "vscode": {
   "interpreter": {
    "hash": "20f7f793b95c435ea4943d89bef0d357ae920326362bacf313a9c8db04ae129f"
   }
  }
 },
 "nbformat": 4,
 "nbformat_minor": 2
}
